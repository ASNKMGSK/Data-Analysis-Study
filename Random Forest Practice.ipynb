{
 "cells": [
  {
   "cell_type": "markdown",
   "metadata": {
    "id": "y__PADeKFTwL"
   },
   "source": [
    "# Random Forest"
   ]
  },
  {
   "cell_type": "code",
   "execution_count": 1,
   "metadata": {
    "id": "1za51wzTNeaH"
   },
   "outputs": [],
   "source": [
    "import pandas as pd\n",
    "import numpy as np\n",
    "\n",
    "from sklearn.ensemble import RandomForestRegressor\n",
    "from sklearn.model_selection import train_test_split, cross_val_score \n",
    "from sklearn.metrics import mean_squared_error, r2_score \n",
    "\n",
    "import seaborn as sns \n",
    "import matplotlib.pyplot as plt\n",
    "%matplotlib inline "
   ]
  },
  {
   "cell_type": "code",
   "execution_count": 2,
   "metadata": {
    "id": "vUA9Y9OYLZO5"
   },
   "outputs": [],
   "source": [
    "filename = 'housing.csv'\n",
    "housing = pd.read_csv(filename)"
   ]
  },
  {
   "cell_type": "markdown",
   "metadata": {
    "id": "gii1qFUYY5Tm"
   },
   "source": [
    "### 집값(MEDV)을 다른 변수 전부로 예측\n",
    "> Random Forest는 여러 개의 Decision Tree를 쌓은 모델이므로 통계적 가정 없는 것이 동일하다."
   ]
  },
  {
   "cell_type": "markdown",
   "metadata": {
    "id": "gZ4bI8pdEq1F"
   },
   "source": [
    "1) 데이터 준비 : 변수 설정, 학습/테스트 데이터 분리"
   ]
  },
  {
   "cell_type": "code",
   "execution_count": 3,
   "metadata": {
    "id": "CKYQps6uNeaH"
   },
   "outputs": [],
   "source": [
    "y_target = housing['MEDV']\n",
    "X_data = housing.drop(['MEDV'], axis=1, inplace=False)\n",
    "\n",
    "X_train, X_test, y_train, y_test = train_test_split(X_data, y_target, test_size = 0.2, random_state=42)"
   ]
  },
  {
   "cell_type": "markdown",
   "metadata": {
    "id": "MosqCrPSFGmu"
   },
   "source": [
    "2) 모형 세팅과 훈련"
   ]
  },
  {
   "cell_type": "code",
   "execution_count": 4,
   "metadata": {
    "id": "qQNf5iGllNI1"
   },
   "outputs": [],
   "source": [
    "rf = RandomForestRegressor(random_state=42, n_estimators=1000)"
   ]
  },
  {
   "cell_type": "code",
   "execution_count": 5,
   "metadata": {
    "id": "bKmzQ4YqFOy5"
   },
   "outputs": [],
   "source": [
    "RandomForestRegressor?"
   ]
  },
  {
   "cell_type": "markdown",
   "metadata": {
    "id": "9yn0N-ZwF1pb"
   },
   "source": [
    "n_estimator : 모형 안의 트리의 개수. \n",
    "- 각각의 트리는 성능이 낮다. \n",
    "- 개별 트리를 깊게 만들 경우 성능은 높지만 과적합 되기 쉽다. \n",
    "- 성능이 낮은 트리를 여러 개 모아 일반화하면 성능과 안정성이 함께 높아진다."
   ]
  },
  {
   "cell_type": "markdown",
   "metadata": {
    "id": "J977RXSPZQM5"
   },
   "source": [
    "### 학습과정에서 모델의 성능 최적화\n",
    "> train 데이터를 **교차검증** (Cross Validation)"
   ]
  },
  {
   "cell_type": "markdown",
   "metadata": {
    "id": "Oy5pqFdRG7AF"
   },
   "source": [
    "3) 모형의 성능 평가 : 교차검증을 통해 학습과정에서 모형의 성능 최적화"
   ]
  },
  {
   "cell_type": "code",
   "execution_count": 6,
   "metadata": {
    "id": "vTpZryonNeaH"
   },
   "outputs": [
    {
     "name": "stdout",
     "output_type": "stream",
     "text": [
      "Random Forest 모델의 훈련 데이터에 대한 성능 :\n",
      "5 folds의 개별 RMSE :  [3.51 4.91 3.83 3.23 3.69]\n",
      "5 folds의 평균 RMSE : 3.833 \n"
     ]
    }
   ],
   "source": [
    "cross_scores = cross_val_score(rf, X_train, y_train, scoring='neg_mean_squared_error', cv=5)\n",
    "rmse_scores = np.sqrt(-1 * cross_scores)\n",
    "avg_rmse = np.mean(rmse_scores) \n",
    "\n",
    "print('Random Forest 모델의 훈련 데이터에 대한 성능 :')\n",
    "print('5 folds의 개별 RMSE : ', np.round(rmse_scores, 2))\n",
    "print('5 folds의 평균 RMSE : {0:.3f} '.format(avg_rmse))"
   ]
  },
  {
   "cell_type": "markdown",
   "metadata": {
    "id": "RqQWAjQdZUvw"
   },
   "source": [
    "### 이전 모델들의 성능과 비교"
   ]
  },
  {
   "cell_type": "code",
   "execution_count": 7,
   "metadata": {
    "executionInfo": {
     "elapsed": 992,
     "status": "ok",
     "timestamp": 1614937321500,
     "user": {
      "displayName": "joongho ahn",
      "photoUrl": "https://lh3.googleusercontent.com/a-/AOh14GhLc5eFbuBAbHo7zVeweL8jw0BfbBmmeP0YhlRD=s64",
      "userId": "04922762511418193225"
     },
     "user_tz": -540
    },
    "id": "LJDvm9lPJooD"
   },
   "outputs": [],
   "source": [
    "import pandas as pd\n",
    "import numpy as np\n",
    "\n",
    "from sklearn.linear_model import LinearRegression \n",
    "from sklearn.tree import DecisionTreeRegressor\n",
    "\n",
    "from sklearn.ensemble import RandomForestRegressor\n",
    "from sklearn.model_selection import train_test_split, cross_val_score \n",
    "from sklearn.metrics import mean_squared_error, r2_score \n",
    "\n",
    "import seaborn as sns \n",
    "import matplotlib.pyplot as plt\n",
    "%matplotlib inline "
   ]
  },
  {
   "cell_type": "code",
   "execution_count": 8,
   "metadata": {
    "id": "0Q66QPeqePtk"
   },
   "outputs": [],
   "source": [
    "housing = pd.read_csv(filename)"
   ]
  },
  {
   "cell_type": "code",
   "execution_count": 9,
   "metadata": {
    "id": "Y-PrXByRdTVj"
   },
   "outputs": [],
   "source": [
    "y_target = housing['MEDV']\n",
    "X_data = housing.drop(['MEDV'], axis=1, inplace=False)\n",
    "\n",
    "X_train, X_test, y_train, y_test = train_test_split(X_data, y_target, test_size = 0.2, random_state=42)"
   ]
  },
  {
   "cell_type": "markdown",
   "metadata": {
    "id": "ugGOMMcKpCbm"
   },
   "source": [
    "- 성능 비교 1) - Random Forest vs. 모든 변수를 다 사용한 선형회귀 모델"
   ]
  },
  {
   "cell_type": "code",
   "execution_count": 10,
   "metadata": {
    "id": "nIcRRtSQnOPB"
   },
   "outputs": [],
   "source": [
    "lr = LinearRegression()"
   ]
  },
  {
   "cell_type": "code",
   "execution_count": 11,
   "metadata": {
    "id": "xy8aPKnPnYjR"
   },
   "outputs": [
    {
     "name": "stdout",
     "output_type": "stream",
     "text": [
      "multiple linear regression 모델의 훈련 데이터에 대한 성능 :\n",
      "5 folds의 개별 RMSE :  [4.15 5.87 4.87 4.5  4.76]\n",
      "5 folds의 평균 RMSE : 4.829 \n"
     ]
    }
   ],
   "source": [
    "cross_scores = cross_val_score(lr, X_train, y_train, scoring='neg_mean_squared_error', cv=5)\n",
    "rmse_scores = np.sqrt(-1 * cross_scores)\n",
    "avg_rmse = np.mean(rmse_scores)\n",
    "\n",
    "print('multiple linear regression 모델의 훈련 데이터에 대한 성능 :')\n",
    "print('5 folds의 개별 RMSE : ', np.round(rmse_scores, 2))\n",
    "print('5 folds의 평균 RMSE : {0:.3f} '.format(avg_rmse))"
   ]
  },
  {
   "cell_type": "markdown",
   "metadata": {
    "id": "0OAz4SjYpGqb"
   },
   "source": [
    "- 성능 비교 2) - Random Forest vs. 의사결정나무 중 가장 성능이 좋은 (max_depth=5) 모델"
   ]
  },
  {
   "cell_type": "code",
   "execution_count": 12,
   "metadata": {
    "id": "A-b_6f3xovEG"
   },
   "outputs": [],
   "source": [
    "dt = DecisionTreeRegressor(random_state=42, max_depth=5)"
   ]
  },
  {
   "cell_type": "code",
   "execution_count": 13,
   "metadata": {
    "id": "CkNQRhn2oyVv"
   },
   "outputs": [
    {
     "name": "stdout",
     "output_type": "stream",
     "text": [
      "Decision Tree 모델의 훈련 데이터에 대한 성능 :\n",
      "5 folds의 개별 RMSE :  [4.29 6.16 5.07 6.38 5.07]\n",
      "5 folds의 평균 RMSE : 5.394 \n"
     ]
    }
   ],
   "source": [
    "cross_scores = cross_val_score(dt, X_train, y_train, scoring='neg_mean_squared_error', cv=5)\n",
    "rmse_scores = np.sqrt(-1 * cross_scores)\n",
    "avg_rmse = np.mean(rmse_scores)\n",
    "\n",
    "print('Decision Tree 모델의 훈련 데이터에 대한 성능 :')\n",
    "print('5 folds의 개별 RMSE : ', np.round(rmse_scores, 2))\n",
    "print('5 folds의 평균 RMSE : {0:.3f} '.format(avg_rmse))"
   ]
  },
  {
   "cell_type": "markdown",
   "metadata": {
    "id": "F2RfiE4PNeaH"
   },
   "source": [
    "비교 결과, Random Forest 알고리즘이 현재까지 모델 중 가장 예측 성능이 좋다! \n",
    "- 다중선형회귀 RMSE 4.829\n",
    "- 의사결정나무 RMSE 5.394\n",
    "- **랜덤 포레스트 RMSE 3.836**"
   ]
  },
  {
   "cell_type": "markdown",
   "metadata": {
    "id": "5gUyHlCxZj-h"
   },
   "source": [
    "### Random Forest 모델의 성능 추가 개선"
   ]
  },
  {
   "cell_type": "code",
   "execution_count": 14,
   "metadata": {
    "id": "g6qNjKd9zUjf"
   },
   "outputs": [],
   "source": [
    "RandomForestRegressor?"
   ]
  },
  {
   "cell_type": "markdown",
   "metadata": {
    "id": "xj8NiTv9H4xI"
   },
   "source": [
    "4) Random Forest 모델 성능 개선 : 하이퍼파라미터 튜닝\n",
    "> 여기에선 내부의 tree 갯수(n_estimators)만 조절"
   ]
  },
  {
   "cell_type": "markdown",
   "metadata": {
    "id": "diP3jRskIixa"
   },
   "source": [
    "- 트리의 개수 조절하며 성능 변화 비교/관찰"
   ]
  },
  {
   "cell_type": "code",
   "execution_count": 15,
   "metadata": {
    "id": "NBrq8P33pOW2"
   },
   "outputs": [],
   "source": [
    "rf1 = RandomForestRegressor(random_state=42, n_estimators=100)"
   ]
  },
  {
   "cell_type": "code",
   "execution_count": 16,
   "metadata": {
    "id": "QwMeUrxUpqhW"
   },
   "outputs": [
    {
     "name": "stdout",
     "output_type": "stream",
     "text": [
      "Random Forest 모델의 훈련 데이터에 대한 성능 :\n",
      "5 folds의 개별 RMSE :  [3.6  4.78 3.81 3.21 3.69]\n",
      "5 folds의 평균 RMSE : 3.819 \n"
     ]
    }
   ],
   "source": [
    "cross_scores = cross_val_score(rf1, X_train, y_train, scoring='neg_mean_squared_error', cv=5)\n",
    "rmse_scores = np.sqrt(-1 * cross_scores)\n",
    "avg_rmse = np.mean(rmse_scores)\n",
    "\n",
    "print('Random Forest 모델의 훈련 데이터에 대한 성능 :')\n",
    "print('5 folds의 개별 RMSE : ', np.round(rmse_scores, 2))\n",
    "print('5 folds의 평균 RMSE : {0:.3f} '.format(avg_rmse))"
   ]
  },
  {
   "cell_type": "code",
   "execution_count": 17,
   "metadata": {
    "id": "rlxFXvrMsahq"
   },
   "outputs": [],
   "source": [
    "rf2 = RandomForestRegressor(random_state=42, n_estimators=500)"
   ]
  },
  {
   "cell_type": "code",
   "execution_count": 18,
   "metadata": {
    "id": "SQ17w1l3sci7"
   },
   "outputs": [
    {
     "name": "stdout",
     "output_type": "stream",
     "text": [
      "Random Forest 모델의 훈련 데이터에 대한 성능 :\n",
      "5 folds의 개별 RMSE :  [3.56 4.84 3.82 3.22 3.73]\n",
      "5 folds의 평균 RMSE : 3.835 \n"
     ]
    }
   ],
   "source": [
    "cross_scores = cross_val_score(rf2, X_train, y_train, scoring='neg_mean_squared_error', cv=5)\n",
    "rmse_scores = np.sqrt(-1 * cross_scores)\n",
    "avg_rmse = np.mean(rmse_scores)\n",
    "\n",
    "print('Random Forest 모델의 훈련 데이터에 대한 성능 :')\n",
    "print('5 folds의 개별 RMSE : ', np.round(rmse_scores, 2))\n",
    "print('5 folds의 평균 RMSE : {0:.3f} '.format(avg_rmse))"
   ]
  },
  {
   "cell_type": "code",
   "execution_count": 19,
   "metadata": {
    "id": "4PH-GyvPsrEJ"
   },
   "outputs": [],
   "source": [
    "rf3 = RandomForestRegressor(random_state=42, n_estimators=50)"
   ]
  },
  {
   "cell_type": "code",
   "execution_count": 20,
   "metadata": {
    "id": "qEHNFN6Xsp8T"
   },
   "outputs": [
    {
     "name": "stdout",
     "output_type": "stream",
     "text": [
      "Random Forest 모델의 훈련 데이터에 대한 성능 :\n",
      "5 folds의 개별 RMSE :  [3.64 4.91 3.98 3.27 3.74]\n",
      "5 folds의 평균 RMSE : 3.909 \n"
     ]
    }
   ],
   "source": [
    "cross_scores = cross_val_score(rf3, X_train, y_train, scoring='neg_mean_squared_error', cv=5)\n",
    "rmse_scores = np.sqrt(-1 * cross_scores)\n",
    "avg_rmse = np.mean(rmse_scores)\n",
    "\n",
    "print('Random Forest 모델의 훈련 데이터에 대한 성능 :')\n",
    "print('5 folds의 개별 RMSE : ', np.round(rmse_scores, 2))\n",
    "print('5 folds의 평균 RMSE : {0:.3f} '.format(avg_rmse))"
   ]
  },
  {
   "cell_type": "code",
   "execution_count": 21,
   "metadata": {
    "id": "M2W8cRxgT9A2"
   },
   "outputs": [],
   "source": [
    "rf4 = RandomForestRegressor(random_state=42, n_estimators=10000)"
   ]
  },
  {
   "cell_type": "code",
   "execution_count": 22,
   "metadata": {
    "id": "3ycPXsx4T9A2"
   },
   "outputs": [
    {
     "name": "stdout",
     "output_type": "stream",
     "text": [
      "Random Forest 모델의 훈련 데이터에 대한 성능 :\n",
      "5 folds의 개별 RMSE :  [3.52 4.91 3.8  3.26 3.69]\n",
      "5 folds의 평균 RMSE : 3.837 \n"
     ]
    }
   ],
   "source": [
    "cross_scores = cross_val_score(rf4, X_train, y_train, scoring='neg_mean_squared_error', cv=5)\n",
    "rmse_scores = np.sqrt(-1 * cross_scores)\n",
    "avg_rmse = np.mean(rmse_scores)\n",
    "\n",
    "print('Random Forest 모델의 훈련 데이터에 대한 성능 :')\n",
    "print('5 folds의 개별 RMSE : ', np.round(rmse_scores, 2))\n",
    "print('5 folds의 평균 RMSE : {0:.3f} '.format(avg_rmse))"
   ]
  },
  {
   "cell_type": "markdown",
   "metadata": {
    "id": "oZe9cq7yuEIg"
   },
   "source": [
    "- tree가 100개인 rf1 모델이 가장 좋다 (과대적합과 과소적합 사이 & 계산량 적음)"
   ]
  },
  {
   "cell_type": "markdown",
   "metadata": {
    "id": "3SidLVVcg5Zh"
   },
   "source": [
    "### 최적 파라미터 선택과 CV를 한번에"
   ]
  },
  {
   "cell_type": "markdown",
   "metadata": {
    "id": "lsv6Y8DZj-ou"
   },
   "source": [
    "- n_estimators : 결정 트리의 개수\n",
    "- max_depth : 트리의 최대 깊이\n",
    "- max_leaf_nodes : 리프 노드의 최대 개수\n",
    "- min_samples_split : 노드를 분할하기 위한 최소 샘플 개수\n",
    "- min_samples_leaf : 리프 노드가 되기 위한 최소 샘플 개수"
   ]
  },
  {
   "cell_type": "markdown",
   "metadata": {
    "id": "xnVggYaYhDuO"
   },
   "source": [
    "사이킷런의 GridSearchCV 사용"
   ]
  },
  {
   "cell_type": "code",
   "execution_count": 23,
   "metadata": {
    "executionInfo": {
     "elapsed": 2058,
     "status": "ok",
     "timestamp": 1614937986086,
     "user": {
      "displayName": "joongho ahn",
      "photoUrl": "https://lh3.googleusercontent.com/a-/AOh14GhLc5eFbuBAbHo7zVeweL8jw0BfbBmmeP0YhlRD=s64",
      "userId": "04922762511418193225"
     },
     "user_tz": -540
    },
    "id": "IUIf7IQDhY8X"
   },
   "outputs": [],
   "source": [
    "from sklearn.model_selection import GridSearchCV "
   ]
  },
  {
   "cell_type": "code",
   "execution_count": 24,
   "metadata": {
    "executionInfo": {
     "elapsed": 1553,
     "status": "ok",
     "timestamp": 1614937990155,
     "user": {
      "displayName": "joongho ahn",
      "photoUrl": "https://lh3.googleusercontent.com/a-/AOh14GhLc5eFbuBAbHo7zVeweL8jw0BfbBmmeP0YhlRD=s64",
      "userId": "04922762511418193225"
     },
     "user_tz": -540
    },
    "id": "fRiujjxLhzkI"
   },
   "outputs": [],
   "source": [
    "GridSearchCV?"
   ]
  },
  {
   "cell_type": "code",
   "execution_count": 25,
   "metadata": {
    "executionInfo": {
     "elapsed": 874,
     "status": "ok",
     "timestamp": 1614938004417,
     "user": {
      "displayName": "joongho ahn",
      "photoUrl": "https://lh3.googleusercontent.com/a-/AOh14GhLc5eFbuBAbHo7zVeweL8jw0BfbBmmeP0YhlRD=s64",
      "userId": "04922762511418193225"
     },
     "user_tz": -540
    },
    "id": "AUUjh5KXj2u2"
   },
   "outputs": [],
   "source": [
    "rf = RandomForestRegressor(random_state=42)"
   ]
  },
  {
   "cell_type": "code",
   "execution_count": 26,
   "metadata": {
    "executionInfo": {
     "elapsed": 973,
     "status": "ok",
     "timestamp": 1614938006355,
     "user": {
      "displayName": "joongho ahn",
      "photoUrl": "https://lh3.googleusercontent.com/a-/AOh14GhLc5eFbuBAbHo7zVeweL8jw0BfbBmmeP0YhlRD=s64",
      "userId": "04922762511418193225"
     },
     "user_tz": -540
    },
    "id": "pbWS-PSljVH9"
   },
   "outputs": [],
   "source": [
    "rf_param_grid = {'n_estimators': [100, 200, 300, 400, 500],\n",
    "                 'max_depth': [4, 5, 6]\n",
    "                 }"
   ]
  },
  {
   "cell_type": "markdown",
   "metadata": {
    "id": "KsNcwbC9qDaw"
   },
   "source": [
    "다양한 파라미터의 조합을 전부 수행\n",
    "> 계산량 많음"
   ]
  },
  {
   "cell_type": "code",
   "execution_count": 27,
   "metadata": {
    "executionInfo": {
     "elapsed": 849,
     "status": "ok",
     "timestamp": 1614938016571,
     "user": {
      "displayName": "joongho ahn",
      "photoUrl": "https://lh3.googleusercontent.com/a-/AOh14GhLc5eFbuBAbHo7zVeweL8jw0BfbBmmeP0YhlRD=s64",
      "userId": "04922762511418193225"
     },
     "user_tz": -540
    },
    "id": "fs3ckH0PiYWd"
   },
   "outputs": [],
   "source": [
    "rf_grid = GridSearchCV(rf, param_grid=rf_param_grid, scoring='neg_mean_squared_error', n_jobs=-1) "
   ]
  },
  {
   "cell_type": "code",
   "execution_count": 28,
   "metadata": {
    "colab": {
     "base_uri": "https://localhost:8080/"
    },
    "executionInfo": {
     "elapsed": 40338,
     "status": "ok",
     "timestamp": 1614938058289,
     "user": {
      "displayName": "joongho ahn",
      "photoUrl": "https://lh3.googleusercontent.com/a-/AOh14GhLc5eFbuBAbHo7zVeweL8jw0BfbBmmeP0YhlRD=s64",
      "userId": "04922762511418193225"
     },
     "user_tz": -540
    },
    "id": "oN3g2xQ2oBYU",
    "outputId": "fc33632e-e60d-4728-b975-46a1a11866d7"
   },
   "outputs": [
    {
     "data": {
      "text/plain": [
       "GridSearchCV(estimator=RandomForestRegressor(random_state=42), n_jobs=-1,\n",
       "             param_grid={'max_depth': [4, 5, 6],\n",
       "                         'n_estimators': [100, 200, 300, 400, 500]},\n",
       "             scoring='neg_mean_squared_error')"
      ]
     },
     "execution_count": 28,
     "metadata": {},
     "output_type": "execute_result"
    }
   ],
   "source": [
    "rf_grid.fit(X_train, y_train)"
   ]
  },
  {
   "cell_type": "code",
   "execution_count": 29,
   "metadata": {
    "colab": {
     "base_uri": "https://localhost:8080/"
    },
    "executionInfo": {
     "elapsed": 889,
     "status": "ok",
     "timestamp": 1614938078244,
     "user": {
      "displayName": "joongho ahn",
      "photoUrl": "https://lh3.googleusercontent.com/a-/AOh14GhLc5eFbuBAbHo7zVeweL8jw0BfbBmmeP0YhlRD=s64",
      "userId": "04922762511418193225"
     },
     "user_tz": -540
    },
    "id": "pr6kBRlSk6KP",
    "outputId": "e6fb17de-820d-4507-d513-f743b3e620de"
   },
   "outputs": [
    {
     "name": "stdout",
     "output_type": "stream",
     "text": [
      "최고 평균 정확도(RMSE) : 3.926\n",
      "최고의 파라미터 : {'max_depth': 6, 'n_estimators': 100}\n"
     ]
    }
   ],
   "source": [
    "print('최고 평균 정확도(RMSE) : {0:.3f}'.format(np.sqrt(-1*rf_grid.best_score_)))\n",
    "print('최고의 파라미터 : {}'.format(rf_grid.best_params_))"
   ]
  },
  {
   "cell_type": "markdown",
   "metadata": {
    "id": "So-bQojrpwWG"
   },
   "source": [
    "Random Forest는 개별 트리가 복잡할때 생기는 과적합을 방지하는 앙상블 \n",
    "> Tree를 더 깊게 만들 수 있다"
   ]
  },
  {
   "cell_type": "code",
   "execution_count": 30,
   "metadata": {
    "executionInfo": {
     "elapsed": 849,
     "status": "ok",
     "timestamp": 1614938096575,
     "user": {
      "displayName": "joongho ahn",
      "photoUrl": "https://lh3.googleusercontent.com/a-/AOh14GhLc5eFbuBAbHo7zVeweL8jw0BfbBmmeP0YhlRD=s64",
      "userId": "04922762511418193225"
     },
     "user_tz": -540
    },
    "id": "f_LyoSO6pmyw"
   },
   "outputs": [],
   "source": [
    "rf_param_grid = {'n_estimators': [100, 200, 300, 400, 500],\n",
    "                 'max_depth': [10, 20, 30, 40, 50]\n",
    "                 }"
   ]
  },
  {
   "cell_type": "code",
   "execution_count": 31,
   "metadata": {
    "colab": {
     "base_uri": "https://localhost:8080/"
    },
    "executionInfo": {
     "elapsed": 85054,
     "status": "ok",
     "timestamp": 1614938185874,
     "user": {
      "displayName": "joongho ahn",
      "photoUrl": "https://lh3.googleusercontent.com/a-/AOh14GhLc5eFbuBAbHo7zVeweL8jw0BfbBmmeP0YhlRD=s64",
      "userId": "04922762511418193225"
     },
     "user_tz": -540
    },
    "id": "CmfVEpbfqLqV",
    "outputId": "85937720-70af-4168-f595-aaff85161b84"
   },
   "outputs": [
    {
     "name": "stdout",
     "output_type": "stream",
     "text": [
      "최고 평균 정확도(RMSE) : 3.855\n",
      "최고의 파라미터 : {'max_depth': 30, 'n_estimators': 100}\n"
     ]
    }
   ],
   "source": [
    "rf_grid = GridSearchCV(rf, param_grid=rf_param_grid, scoring='neg_mean_squared_error', cv=5, n_jobs=-1) \n",
    "\n",
    "rf_grid.fit(X_train, y_train)\n",
    "\n",
    "print('최고 평균 정확도(RMSE) : {0:.3f}'.format(np.sqrt(-1 * rf_grid.best_score_)))\n",
    "print('최고의 파라미터 : {}'.format(rf_grid.best_params_))"
   ]
  },
  {
   "cell_type": "markdown",
   "metadata": {
    "id": "iNlUZ9oSrFXM"
   },
   "source": [
    "Random Forest는 과적합 우려가 적으므로 Tree를 '훨씬 더' 복잡하게 만들어도 된다\n",
    "> 대신 계산량과 계산 시간을 고려해야 한다"
   ]
  },
  {
   "cell_type": "markdown",
   "metadata": {
    "id": "5Shx-D0Wctcv"
   },
   "source": [
    "### (현재까지) 최적의 모델로 훈련"
   ]
  },
  {
   "cell_type": "code",
   "execution_count": 32,
   "metadata": {
    "colab": {
     "base_uri": "https://localhost:8080/"
    },
    "executionInfo": {
     "elapsed": 881,
     "status": "ok",
     "timestamp": 1614938207717,
     "user": {
      "displayName": "joongho ahn",
      "photoUrl": "https://lh3.googleusercontent.com/a-/AOh14GhLc5eFbuBAbHo7zVeweL8jw0BfbBmmeP0YhlRD=s64",
      "userId": "04922762511418193225"
     },
     "user_tz": -540
    },
    "id": "djJPOVloNeaJ",
    "outputId": "54a218f0-02ff-4d98-b281-e0d86994afe5"
   },
   "outputs": [
    {
     "data": {
      "text/plain": [
       "RandomForestRegressor(random_state=42)"
      ]
     },
     "execution_count": 32,
     "metadata": {},
     "output_type": "execute_result"
    }
   ],
   "source": [
    "rf1.fit(X_train, y_train)"
   ]
  },
  {
   "cell_type": "markdown",
   "metadata": {
    "id": "R8Q5d6GoqJ24"
   },
   "source": [
    "### 모델을 test 데이터로 최종 평가"
   ]
  },
  {
   "cell_type": "code",
   "execution_count": 33,
   "metadata": {
    "executionInfo": {
     "elapsed": 970,
     "status": "ok",
     "timestamp": 1614938211875,
     "user": {
      "displayName": "joongho ahn",
      "photoUrl": "https://lh3.googleusercontent.com/a-/AOh14GhLc5eFbuBAbHo7zVeweL8jw0BfbBmmeP0YhlRD=s64",
      "userId": "04922762511418193225"
     },
     "user_tz": -540
    },
    "id": "3e9GlwcFvTB1"
   },
   "outputs": [],
   "source": [
    "y_test_preds = rf1.predict(X_test)"
   ]
  },
  {
   "cell_type": "code",
   "execution_count": 34,
   "metadata": {
    "executionInfo": {
     "elapsed": 675,
     "status": "ok",
     "timestamp": 1614938216226,
     "user": {
      "displayName": "joongho ahn",
      "photoUrl": "https://lh3.googleusercontent.com/a-/AOh14GhLc5eFbuBAbHo7zVeweL8jw0BfbBmmeP0YhlRD=s64",
      "userId": "04922762511418193225"
     },
     "user_tz": -540
    },
    "id": "pVLa2hoEvTB2"
   },
   "outputs": [],
   "source": [
    "# 테스트 데이터에 대한 모형의 정확도 평가\n",
    "mse_test = mean_squared_error(y_test, y_test_preds)\n",
    "rmse_test = np.sqrt(mse_test)"
   ]
  },
  {
   "cell_type": "code",
   "execution_count": 35,
   "metadata": {
    "colab": {
     "base_uri": "https://localhost:8080/"
    },
    "executionInfo": {
     "elapsed": 524,
     "status": "ok",
     "timestamp": 1614938217305,
     "user": {
      "displayName": "joongho ahn",
      "photoUrl": "https://lh3.googleusercontent.com/a-/AOh14GhLc5eFbuBAbHo7zVeweL8jw0BfbBmmeP0YhlRD=s64",
      "userId": "04922762511418193225"
     },
     "user_tz": -540
    },
    "id": "IP4piJKQqFkz",
    "outputId": "ba900b7e-6e38-49cd-ec61-d1334ea018cd"
   },
   "outputs": [
    {
     "name": "stdout",
     "output_type": "stream",
     "text": [
      "테스트 데이터에 대한 모형의 성능 :\n",
      "정확도(RMSE) : 2.811\n",
      "설명력(R2) : 0.892\n"
     ]
    }
   ],
   "source": [
    "print(\"테스트 데이터에 대한 모형의 성능 :\")\n",
    "print('정확도(RMSE) : {:.3f}'.format(rmse_test))\n",
    "print('설명력(R2) : {:.3f}'.format(r2_score(y_test, y_test_preds)))"
   ]
  },
  {
   "cell_type": "markdown",
   "metadata": {
    "id": "Ro6oyMsJaJL8"
   },
   "source": [
    "### 모델의 해석 : 변수의 중요도"
   ]
  },
  {
   "cell_type": "code",
   "execution_count": 36,
   "metadata": {
    "executionInfo": {
     "elapsed": 985,
     "status": "ok",
     "timestamp": 1614939122836,
     "user": {
      "displayName": "joongho ahn",
      "photoUrl": "https://lh3.googleusercontent.com/a-/AOh14GhLc5eFbuBAbHo7zVeweL8jw0BfbBmmeP0YhlRD=s64",
      "userId": "04922762511418193225"
     },
     "user_tz": -540
    },
    "id": "Eye6clwg5vzi"
   },
   "outputs": [],
   "source": [
    "import pandas as pd\n",
    "import numpy as np\n",
    "\n",
    "from sklearn.ensemble import RandomForestRegressor\n",
    "from sklearn.model_selection import train_test_split, cross_val_score \n",
    "from sklearn.metrics import mean_squared_error, r2_score \n",
    "\n",
    "import seaborn as sns \n",
    "import matplotlib.pyplot as plt\n",
    "%matplotlib inline "
   ]
  },
  {
   "cell_type": "code",
   "execution_count": 38,
   "metadata": {
    "executionInfo": {
     "elapsed": 733,
     "status": "ok",
     "timestamp": 1614939126828,
     "user": {
      "displayName": "joongho ahn",
      "photoUrl": "https://lh3.googleusercontent.com/a-/AOh14GhLc5eFbuBAbHo7zVeweL8jw0BfbBmmeP0YhlRD=s64",
      "userId": "04922762511418193225"
     },
     "user_tz": -540
    },
    "id": "hVweyQXs58n7"
   },
   "outputs": [],
   "source": [
    "housing = pd.read_csv(filename)"
   ]
  },
  {
   "cell_type": "code",
   "execution_count": 39,
   "metadata": {
    "executionInfo": {
     "elapsed": 922,
     "status": "ok",
     "timestamp": 1614939140249,
     "user": {
      "displayName": "joongho ahn",
      "photoUrl": "https://lh3.googleusercontent.com/a-/AOh14GhLc5eFbuBAbHo7zVeweL8jw0BfbBmmeP0YhlRD=s64",
      "userId": "04922762511418193225"
     },
     "user_tz": -540
    },
    "id": "017ezwLY58n7"
   },
   "outputs": [],
   "source": [
    "y_target = housing['MEDV']\n",
    "X_data = housing.drop(['MEDV'], axis=1, inplace=False)\n",
    "\n",
    "X_train, X_test, y_train, y_test = train_test_split(X_data, y_target, test_size = 0.2, random_state=42)"
   ]
  },
  {
   "cell_type": "code",
   "execution_count": 40,
   "metadata": {
    "colab": {
     "base_uri": "https://localhost:8080/"
    },
    "executionInfo": {
     "elapsed": 1203,
     "status": "ok",
     "timestamp": 1614939154582,
     "user": {
      "displayName": "joongho ahn",
      "photoUrl": "https://lh3.googleusercontent.com/a-/AOh14GhLc5eFbuBAbHo7zVeweL8jw0BfbBmmeP0YhlRD=s64",
      "userId": "04922762511418193225"
     },
     "user_tz": -540
    },
    "id": "hHWIu9py5qKA",
    "outputId": "d583c2bb-0dc2-44dc-bf87-e5c6bf894b65"
   },
   "outputs": [
    {
     "data": {
      "text/plain": [
       "RandomForestRegressor(random_state=42)"
      ]
     },
     "execution_count": 40,
     "metadata": {},
     "output_type": "execute_result"
    }
   ],
   "source": [
    "rf1 = RandomForestRegressor(random_state=42, n_estimators=100)\n",
    "\n",
    "rf1.fit(X_train, y_train)"
   ]
  },
  {
   "cell_type": "markdown",
   "metadata": {
    "id": "qmh2pz2kI2Zk"
   },
   "source": [
    "5) Random Forest 모델의 해석 : 변수 중요도 (feature importance)\n",
    "> Random Forest를 구성하는 회귀 트리에 회귀 계수(.coef_) 가 없으므로, '입력변수 얼마 변화 당 출력변수는 얼마 변화한다' 방식의 설명이 불가능하다. 이 모델은 대신 피처별 중요도를 제공한다."
   ]
  },
  {
   "cell_type": "code",
   "execution_count": 41,
   "metadata": {
    "executionInfo": {
     "elapsed": 789,
     "status": "ok",
     "timestamp": 1614939227822,
     "user": {
      "displayName": "joongho ahn",
      "photoUrl": "https://lh3.googleusercontent.com/a-/AOh14GhLc5eFbuBAbHo7zVeweL8jw0BfbBmmeP0YhlRD=s64",
      "userId": "04922762511418193225"
     },
     "user_tz": -540
    },
    "id": "nuFU4XkpNeaJ"
   },
   "outputs": [],
   "source": [
    "feature_series = pd.Series(data=rf1.feature_importances_, index=X_data.columns)\n",
    "feature_series = feature_series.sort_values(ascending=False) "
   ]
  },
  {
   "cell_type": "code",
   "execution_count": 42,
   "metadata": {
    "colab": {
     "base_uri": "https://localhost:8080/"
    },
    "executionInfo": {
     "elapsed": 1146,
     "status": "ok",
     "timestamp": 1614939237959,
     "user": {
      "displayName": "joongho ahn",
      "photoUrl": "https://lh3.googleusercontent.com/a-/AOh14GhLc5eFbuBAbHo7zVeweL8jw0BfbBmmeP0YhlRD=s64",
      "userId": "04922762511418193225"
     },
     "user_tz": -540
    },
    "id": "jAJwS3OLwOPT",
    "outputId": "c1f17f4c-6420-4f3d-bfc0-8f444b61e0f4"
   },
   "outputs": [
    {
     "data": {
      "text/plain": [
       "RM         0.503845\n",
       "LSTAT      0.309509\n",
       "DIS        0.060549\n",
       "CRIM       0.038062\n",
       "PTRATIO    0.016313\n",
       "TAX        0.015661\n",
       "dtype: float64"
      ]
     },
     "execution_count": 42,
     "metadata": {},
     "output_type": "execute_result"
    }
   ],
   "source": [
    "feature_series.head(6)"
   ]
  },
  {
   "cell_type": "code",
   "execution_count": 43,
   "metadata": {
    "colab": {
     "base_uri": "https://localhost:8080/",
     "height": 283
    },
    "executionInfo": {
     "elapsed": 1022,
     "status": "ok",
     "timestamp": 1614939241525,
     "user": {
      "displayName": "joongho ahn",
      "photoUrl": "https://lh3.googleusercontent.com/a-/AOh14GhLc5eFbuBAbHo7zVeweL8jw0BfbBmmeP0YhlRD=s64",
      "userId": "04922762511418193225"
     },
     "user_tz": -540
    },
    "id": "e29v9epNNeaJ",
    "outputId": "6dd1ba15-afcf-463a-8c53-5802dc0edd04"
   },
   "outputs": [
    {
     "data": {
      "text/plain": [
       "<AxesSubplot:>"
      ]
     },
     "execution_count": 43,
     "metadata": {},
     "output_type": "execute_result"
    },
    {
     "data": {
      "image/png": "[encoded data removed]",
      "text/plain": [
       "<Figure size 432x288 with 1 Axes>"
      ]
     },
     "metadata": {
      "needs_background": "light"
     },
     "output_type": "display_data"
    }
   ],
   "source": [
    "sns.barplot(x=feature_series, y=feature_series.index)"
   ]
  },
  {
   "cell_type": "markdown",
   "metadata": {
    "id": "hdQZDoH9NeaJ"
   },
   "source": [
    "중요도가 큰 변수 6개 선택\n",
    "> https://datawhatnow.com/feature-importance/\n",
    "\n",
    "- 본 분석의 목적은 직접 주택을 구매하거나, 고객에게 주택을 추천하는 사람의 의사결정을 돕기 위한 것 \n",
    "- '선택지'의 개수를 줄이는 것이 필요하므로, 집값에 영향을 미치는 순으로 중요한 변수 6개를 선택\n",
    "> 참고 : 선택지 개수에 따른 응답 왜곡 http://kostat.go.kr/attach/journal/13-2-06.pdf\n",
    "\n"
   ]
  },
  {
   "cell_type": "markdown",
   "metadata": {
    "id": "uKUxZMUnKPRT"
   },
   "source": [
    "5) 본 분석의 결론\n",
    "\n",
    "집값에 영향을 미치는 요소는 순서대로 1가구당 방 갯수, 저소득층 비율, 5대 고용중심들로부터의 거리, 범죄율, 학생-선생 비율, 재산세율이다. \n",
    "\n",
    "- 설명변수 채택 : RM, LSTAT, DIS, CRIM, PTRATIO, TAX"
   ]
  },
  {
   "cell_type": "markdown",
   "metadata": {
    "id": "EDuPEZ-kNeaI"
   },
   "source": [
    "### 참고 : 여러 알고리즘과 성능 비교\n",
    "- Decision Tree vs. Random Forest vs. GBM vs. XGBoost vs. LightGBM\n",
    "> 트리 기반 머신러닝 모델을 전부 비교해 best 채택"
   ]
  },
  {
   "cell_type": "code",
   "execution_count": 46,
   "metadata": {
    "executionInfo": {
     "elapsed": 979,
     "status": "ok",
     "timestamp": 1614939388259,
     "user": {
      "displayName": "joongho ahn",
      "photoUrl": "https://lh3.googleusercontent.com/a-/AOh14GhLc5eFbuBAbHo7zVeweL8jw0BfbBmmeP0YhlRD=s64",
      "userId": "04922762511418193225"
     },
     "user_tz": -540
    },
    "id": "-hFhwix8NeaI"
   },
   "outputs": [],
   "source": [
    "from sklearn.tree import DecisionTreeRegressor\n",
    "from sklearn.ensemble import RandomForestRegressor\n",
    "\n",
    "from sklearn.ensemble import GradientBoostingRegressor\n",
    "from xgboost import XGBRegressor\n",
    "from lightgbm import LGBMRegressor"
   ]
  },
  {
   "cell_type": "code",
   "execution_count": 47,
   "metadata": {
    "executionInfo": {
     "elapsed": 749,
     "status": "ok",
     "timestamp": 1614939391119,
     "user": {
      "displayName": "joongho ahn",
      "photoUrl": "https://lh3.googleusercontent.com/a-/AOh14GhLc5eFbuBAbHo7zVeweL8jw0BfbBmmeP0YhlRD=s64",
      "userId": "04922762511418193225"
     },
     "user_tz": -540
    },
    "id": "dBi6meTbwlcz"
   },
   "outputs": [],
   "source": [
    "y_target = housing['MEDV']\n",
    "X_data = housing.drop(['MEDV'], axis=1, inplace=False)\n",
    "\n",
    "X_train, X_test, y_train, y_test = train_test_split(X_data, y_target, test_size = 0.2, random_state=42)"
   ]
  },
  {
   "cell_type": "code",
   "execution_count": 48,
   "metadata": {
    "executionInfo": {
     "elapsed": 760,
     "status": "ok",
     "timestamp": 1614939407580,
     "user": {
      "displayName": "joongho ahn",
      "photoUrl": "https://lh3.googleusercontent.com/a-/AOh14GhLc5eFbuBAbHo7zVeweL8jw0BfbBmmeP0YhlRD=s64",
      "userId": "04922762511418193225"
     },
     "user_tz": -540
    },
    "id": "fJfhYSHhNeaI"
   },
   "outputs": [],
   "source": [
    "def get_model_cv_prediction(model, X_data, y_target):\n",
    "\n",
    "    neg_mse_scores = cross_val_score(model, X_data, y_target, scoring='neg_mean_squared_error', cv=5)\n",
    "    rmse_scores = np.sqrt(-1 * neg_mse_scores)\n",
    "    avg_rmse = np.mean(rmse_scores)\n",
    "    \n",
    "    print('## ', model.__class__.__name__, ':')\n",
    "    print('5 folds의 평균 RMSE : {0:.3f} '.format(avg_rmse))"
   ]
  },
  {
   "cell_type": "code",
   "execution_count": 49,
   "metadata": {
    "executionInfo": {
     "elapsed": 1137,
     "status": "ok",
     "timestamp": 1614939411914,
     "user": {
      "displayName": "joongho ahn",
      "photoUrl": "https://lh3.googleusercontent.com/a-/AOh14GhLc5eFbuBAbHo7zVeweL8jw0BfbBmmeP0YhlRD=s64",
      "userId": "04922762511418193225"
     },
     "user_tz": -540
    },
    "id": "4_FIA2k6NeaI"
   },
   "outputs": [],
   "source": [
    "dt_reg = DecisionTreeRegressor(random_state=42, max_depth=5)\n",
    "rf_reg = RandomForestRegressor(random_state=42, n_estimators=100)\n",
    "gb_reg = GradientBoostingRegressor(random_state=42, n_estimators=100)\n",
    "xgb_reg = XGBRegressor(objective='reg:squarederror', random_state=42, n_estimators=100)\n",
    "lgb_reg = LGBMRegressor(n_estimators=100)"
   ]
  },
  {
   "cell_type": "code",
   "execution_count": 50,
   "metadata": {
    "colab": {
     "base_uri": "https://localhost:8080/"
    },
    "executionInfo": {
     "elapsed": 3847,
     "status": "ok",
     "timestamp": 1614939422587,
     "user": {
      "displayName": "joongho ahn",
      "photoUrl": "https://lh3.googleusercontent.com/a-/AOh14GhLc5eFbuBAbHo7zVeweL8jw0BfbBmmeP0YhlRD=s64",
      "userId": "04922762511418193225"
     },
     "user_tz": -540
    },
    "id": "AK-bVBzLNeaI",
    "outputId": "4da24e84-a548-4012-dfd7-b4d6b24a9dde"
   },
   "outputs": [
    {
     "name": "stdout",
     "output_type": "stream",
     "text": [
      "##  DecisionTreeRegressor :\n",
      "5 folds의 평균 RMSE : 5.394 \n",
      "##  RandomForestRegressor :\n",
      "5 folds의 평균 RMSE : 3.819 \n",
      "##  GradientBoostingRegressor :\n",
      "5 folds의 평균 RMSE : 3.526 \n",
      "##  XGBRegressor :\n",
      "5 folds의 평균 RMSE : 3.586 \n",
      "##  LGBMRegressor :\n",
      "5 folds의 평균 RMSE : 3.725 \n"
     ]
    }
   ],
   "source": [
    "models = [dt_reg, rf_reg, gb_reg, xgb_reg, lgb_reg]\n",
    "\n",
    "for model in models:\n",
    "    get_model_cv_prediction(model, X_train, y_train)"
   ]
  },
  {
   "cell_type": "markdown",
   "metadata": {
    "id": "rIlA88_pNeaI"
   },
   "source": [
    "가장 성능이 좋은 GradientBoostingRegressor 채택 -> 하이퍼파리미터 최적화 과정을 거치면 LGBM쪽이 더 높게 나오는게 평균적이다"
   ]
  },
  {
   "cell_type": "code",
   "execution_count": 51,
   "metadata": {
    "colab": {
     "base_uri": "https://localhost:8080/"
    },
    "executionInfo": {
     "elapsed": 777,
     "status": "ok",
     "timestamp": 1614939430877,
     "user": {
      "displayName": "joongho ahn",
      "photoUrl": "https://lh3.googleusercontent.com/a-/AOh14GhLc5eFbuBAbHo7zVeweL8jw0BfbBmmeP0YhlRD=s64",
      "userId": "04922762511418193225"
     },
     "user_tz": -540
    },
    "id": "L2-XBdIryxwI",
    "outputId": "91531060-b859-4864-b1a2-fa62fd72b49f"
   },
   "outputs": [
    {
     "data": {
      "text/plain": [
       "GradientBoostingRegressor(random_state=42)"
      ]
     },
     "execution_count": 51,
     "metadata": {},
     "output_type": "execute_result"
    }
   ],
   "source": [
    "gb_reg.fit(X_data, y_target)"
   ]
  },
  {
   "cell_type": "code",
   "execution_count": 52,
   "metadata": {
    "executionInfo": {
     "elapsed": 940,
     "status": "ok",
     "timestamp": 1614939434647,
     "user": {
      "displayName": "joongho ahn",
      "photoUrl": "https://lh3.googleusercontent.com/a-/AOh14GhLc5eFbuBAbHo7zVeweL8jw0BfbBmmeP0YhlRD=s64",
      "userId": "04922762511418193225"
     },
     "user_tz": -540
    },
    "id": "Ka9o7gRMyxwJ"
   },
   "outputs": [],
   "source": [
    "feature_series = pd.Series(data=gb_reg.feature_importances_, index=X_data.columns)\n",
    "feature_series = feature_series.sort_values(ascending=False)"
   ]
  },
  {
   "cell_type": "code",
   "execution_count": 53,
   "metadata": {
    "colab": {
     "base_uri": "https://localhost:8080/"
    },
    "executionInfo": {
     "elapsed": 710,
     "status": "ok",
     "timestamp": 1614939438099,
     "user": {
      "displayName": "joongho ahn",
      "photoUrl": "https://lh3.googleusercontent.com/a-/AOh14GhLc5eFbuBAbHo7zVeweL8jw0BfbBmmeP0YhlRD=s64",
      "userId": "04922762511418193225"
     },
     "user_tz": -540
    },
    "id": "uGRFOmrbyxwJ",
    "outputId": "a443723c-ddd1-45aa-bf34-f9e2809586bc"
   },
   "outputs": [
    {
     "data": {
      "text/plain": [
       "RM         0.410487\n",
       "LSTAT      0.372855\n",
       "DIS        0.082702\n",
       "NOX        0.036725\n",
       "PTRATIO    0.034847\n",
       "CRIM       0.025564\n",
       "dtype: float64"
      ]
     },
     "execution_count": 53,
     "metadata": {},
     "output_type": "execute_result"
    }
   ],
   "source": [
    "feature_series.head(6)"
   ]
  },
  {
   "cell_type": "code",
   "execution_count": 54,
   "metadata": {
    "colab": {
     "base_uri": "https://localhost:8080/",
     "height": 283
    },
    "executionInfo": {
     "elapsed": 891,
     "status": "ok",
     "timestamp": 1614939442500,
     "user": {
      "displayName": "joongho ahn",
      "photoUrl": "https://lh3.googleusercontent.com/a-/AOh14GhLc5eFbuBAbHo7zVeweL8jw0BfbBmmeP0YhlRD=s64",
      "userId": "04922762511418193225"
     },
     "user_tz": -540
    },
    "id": "CgPHewdFyxwJ",
    "outputId": "b5f4367e-ef35-4a49-e517-e2b5c1b7fbed"
   },
   "outputs": [
    {
     "data": {
      "text/plain": [
       "<AxesSubplot:>"
      ]
     },
     "execution_count": 54,
     "metadata": {},
     "output_type": "execute_result"
    },
    {
     "data": {
      "image/png": "[encoded data removed]",
      "text/plain": [
       "<Figure size 432x288 with 1 Axes>"
      ]
     },
     "metadata": {
      "needs_background": "light"
     },
     "output_type": "display_data"
    }
   ],
   "source": [
    "sns.barplot(x=feature_series, y=feature_series.index)"
   ]
  },
  {
   "cell_type": "markdown",
   "metadata": {
    "id": "qdVo92kfzCI2"
   },
   "source": [
    "feature importance 해석과정은 생략"
   ]
  }
 ],
 "metadata": {
  "colab": {
   "authorship_tag": "ABX9TyOgNEhB0bT38cDoJ5b9O7au",
   "collapsed_sections": [],
   "name": "Part3 Chap4 Random Forest 실습.ipynb",
   "provenance": []
  },
  "kernelspec": {
   "display_name": "AI",
   "language": "python",
   "name": "ai"
  },
  "language_info": {
   "codemirror_mode": {
    "name": "ipython",
    "version": 3
   },
   "file_extension": ".py",
   "mimetype": "text/x-python",
   "name": "python",
   "nbconvert_exporter": "python",
   "pygments_lexer": "ipython3",
   "version": "3.9.7"
  }
 },
 "nbformat": 4,
 "nbformat_minor": 1
}
